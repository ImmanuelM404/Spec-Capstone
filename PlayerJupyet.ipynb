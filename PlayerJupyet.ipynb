{
 "cells": [
  {
   "cell_type": "markdown",
   "metadata": {},
   "source": [
    "Does the All-Star break hurt or improve a NBA player's performance ?\n",
    "\n",
    "Analysis of this problem gives insight on player's performance after All-Star break and gives insight on a player's ability to help a team make a late push for the playoffs.\n",
    "\n",
    "Tech Stack: pandas/numpy (dataframe), matplotlib/plotly (data visuals), nba_api (data source), beautifulSoup/Selenium (web scraping), excel/notes (data file), request (online)\n",
    "\n",
    "Data Sources: basketball-refernce, csv file generated from basketball-reference.com \n",
    "\n",
    " As a user I should be able to evaulate whether a NBA player's performance improved or declined after All-Star break by total points, rebounds, assist and turnovers (player efficency) by comparing to before All-Star break stats.\n",
    " "
   ]
  },
  {
   "cell_type": "markdown",
   "metadata": {},
   "source": [
    "Importing libraries that will be used for this project below "
   ]
  },
  {
   "cell_type": "code",
   "execution_count": 753,
   "metadata": {},
   "outputs": [],
   "source": [
    "\n",
    "import matplotlib\n",
    "import pandas as pd \n",
    "import numpy as np \n",
    "import requests \n",
    "from bs4 import BeautifulSoup\n",
    "import matplotlib.pylab as plt \n",
    "%matplotlib inline\n",
    "import datetime\n",
    "import seaborn as sns"
   ]
  },
  {
   "cell_type": "markdown",
   "metadata": {},
   "source": [
    "Retrieve the data from URL and convert data from url into a csv file \n",
    "The data sources used are Kevin Durant's rookie and sophmore year stats for "
   ]
  },
  {
   "cell_type": "code",
   "execution_count": 754,
   "metadata": {},
   "outputs": [],
   "source": [
    "#Get Data From Source \n",
    "\n",
    "def get_data_to_csv(year):\n",
    "    url = f\"https://www.basketball-reference.com/players/d/duranke01/gamelog/{year}\"\n",
    "    results = requests.get(url)\n",
    "    stats_08 = pd.read_html(url, header=0)\n",
    "    data = stats_08[7]\n",
    "    csv = data.to_csv(f'KDurant{year}.csv', index=False)\n",
    "    return csv \n",
    "get_data_to_csv(2008)\n",
    "get_data_to_csv(2009)\n",
    "# get_data_to_csv(2010)\n",
    "# get_data_to_csv(2011)"
   ]
  },
  {
   "cell_type": "markdown",
   "metadata": {},
   "source": [
    "Converts csv file into a data frame so data cleansing can begin \n",
    "    -Convert colunn data types as needed for analysis \n",
    "    -Drop columns that are not useful for analysis \n",
    "    -Reindex \n",
    "    -Create new columns that will be needed later for analysis "
   ]
  },
  {
   "cell_type": "code",
   "execution_count": 755,
   "metadata": {},
   "outputs": [
    {
     "data": {
      "text/html": [
       "<div>\n",
       "<style scoped>\n",
       "    .dataframe tbody tr th:only-of-type {\n",
       "        vertical-align: middle;\n",
       "    }\n",
       "\n",
       "    .dataframe tbody tr th {\n",
       "        vertical-align: top;\n",
       "    }\n",
       "\n",
       "    .dataframe thead th {\n",
       "        text-align: right;\n",
       "    }\n",
       "</style>\n",
       "<table border=\"1\" class=\"dataframe\">\n",
       "  <thead>\n",
       "    <tr style=\"text-align: right;\">\n",
       "      <th></th>\n",
       "      <th>G</th>\n",
       "      <th>Date</th>\n",
       "      <th>GS</th>\n",
       "      <th>MP</th>\n",
       "      <th>FG</th>\n",
       "      <th>FGA</th>\n",
       "      <th>FG%</th>\n",
       "      <th>3P</th>\n",
       "      <th>3PA</th>\n",
       "      <th>FT</th>\n",
       "      <th>...</th>\n",
       "      <th>TRB</th>\n",
       "      <th>AST</th>\n",
       "      <th>STL</th>\n",
       "      <th>BLK</th>\n",
       "      <th>TOV</th>\n",
       "      <th>PF</th>\n",
       "      <th>PTS</th>\n",
       "      <th>+/-</th>\n",
       "      <th>FTM</th>\n",
       "      <th>FGM</th>\n",
       "    </tr>\n",
       "    <tr>\n",
       "      <th>Rk</th>\n",
       "      <th></th>\n",
       "      <th></th>\n",
       "      <th></th>\n",
       "      <th></th>\n",
       "      <th></th>\n",
       "      <th></th>\n",
       "      <th></th>\n",
       "      <th></th>\n",
       "      <th></th>\n",
       "      <th></th>\n",
       "      <th></th>\n",
       "      <th></th>\n",
       "      <th></th>\n",
       "      <th></th>\n",
       "      <th></th>\n",
       "      <th></th>\n",
       "      <th></th>\n",
       "      <th></th>\n",
       "      <th></th>\n",
       "      <th></th>\n",
       "      <th></th>\n",
       "    </tr>\n",
       "  </thead>\n",
       "  <tbody>\n",
       "    <tr>\n",
       "      <th>1</th>\n",
       "      <td>1</td>\n",
       "      <td>2007-10-31</td>\n",
       "      <td>1</td>\n",
       "      <td>31:34</td>\n",
       "      <td>7.0</td>\n",
       "      <td>22.0</td>\n",
       "      <td>.318</td>\n",
       "      <td>2.0</td>\n",
       "      <td>2.0</td>\n",
       "      <td>2.0</td>\n",
       "      <td>...</td>\n",
       "      <td>5.0</td>\n",
       "      <td>1.0</td>\n",
       "      <td>3.0</td>\n",
       "      <td>1.0</td>\n",
       "      <td>2.0</td>\n",
       "      <td>3.0</td>\n",
       "      <td>18.0</td>\n",
       "      <td>-8</td>\n",
       "      <td>2.0</td>\n",
       "      <td>15.0</td>\n",
       "    </tr>\n",
       "    <tr>\n",
       "      <th>2</th>\n",
       "      <td>2</td>\n",
       "      <td>2007-11-01</td>\n",
       "      <td>1</td>\n",
       "      <td>39:19</td>\n",
       "      <td>11.0</td>\n",
       "      <td>23.0</td>\n",
       "      <td>.478</td>\n",
       "      <td>2.0</td>\n",
       "      <td>2.0</td>\n",
       "      <td>3.0</td>\n",
       "      <td>...</td>\n",
       "      <td>5.0</td>\n",
       "      <td>1.0</td>\n",
       "      <td>0.0</td>\n",
       "      <td>1.0</td>\n",
       "      <td>6.0</td>\n",
       "      <td>2.0</td>\n",
       "      <td>27.0</td>\n",
       "      <td>-3</td>\n",
       "      <td>1.0</td>\n",
       "      <td>12.0</td>\n",
       "    </tr>\n",
       "    <tr>\n",
       "      <th>3</th>\n",
       "      <td>3</td>\n",
       "      <td>2007-11-04</td>\n",
       "      <td>1</td>\n",
       "      <td>37:17</td>\n",
       "      <td>10.0</td>\n",
       "      <td>19.0</td>\n",
       "      <td>.526</td>\n",
       "      <td>3.0</td>\n",
       "      <td>3.0</td>\n",
       "      <td>1.0</td>\n",
       "      <td>...</td>\n",
       "      <td>8.0</td>\n",
       "      <td>5.0</td>\n",
       "      <td>0.0</td>\n",
       "      <td>1.0</td>\n",
       "      <td>1.0</td>\n",
       "      <td>2.0</td>\n",
       "      <td>24.0</td>\n",
       "      <td>-18</td>\n",
       "      <td>1.0</td>\n",
       "      <td>9.0</td>\n",
       "    </tr>\n",
       "    <tr>\n",
       "      <th>4</th>\n",
       "      <td>4</td>\n",
       "      <td>2007-11-06</td>\n",
       "      <td>1</td>\n",
       "      <td>33:38</td>\n",
       "      <td>11.0</td>\n",
       "      <td>22.0</td>\n",
       "      <td>.500</td>\n",
       "      <td>3.0</td>\n",
       "      <td>3.0</td>\n",
       "      <td>2.0</td>\n",
       "      <td>...</td>\n",
       "      <td>7.0</td>\n",
       "      <td>4.0</td>\n",
       "      <td>1.0</td>\n",
       "      <td>0.0</td>\n",
       "      <td>6.0</td>\n",
       "      <td>2.0</td>\n",
       "      <td>27.0</td>\n",
       "      <td>-16</td>\n",
       "      <td>1.0</td>\n",
       "      <td>11.0</td>\n",
       "    </tr>\n",
       "    <tr>\n",
       "      <th>5</th>\n",
       "      <td>5</td>\n",
       "      <td>2007-11-07</td>\n",
       "      <td>1</td>\n",
       "      <td>31:38</td>\n",
       "      <td>3.0</td>\n",
       "      <td>17.0</td>\n",
       "      <td>.176</td>\n",
       "      <td>1.0</td>\n",
       "      <td>1.0</td>\n",
       "      <td>10.0</td>\n",
       "      <td>...</td>\n",
       "      <td>2.0</td>\n",
       "      <td>1.0</td>\n",
       "      <td>1.0</td>\n",
       "      <td>0.0</td>\n",
       "      <td>2.0</td>\n",
       "      <td>2.0</td>\n",
       "      <td>17.0</td>\n",
       "      <td>-9</td>\n",
       "      <td>0.0</td>\n",
       "      <td>14.0</td>\n",
       "    </tr>\n",
       "    <tr>\n",
       "      <th>...</th>\n",
       "      <td>...</td>\n",
       "      <td>...</td>\n",
       "      <td>...</td>\n",
       "      <td>...</td>\n",
       "      <td>...</td>\n",
       "      <td>...</td>\n",
       "      <td>...</td>\n",
       "      <td>...</td>\n",
       "      <td>...</td>\n",
       "      <td>...</td>\n",
       "      <td>...</td>\n",
       "      <td>...</td>\n",
       "      <td>...</td>\n",
       "      <td>...</td>\n",
       "      <td>...</td>\n",
       "      <td>...</td>\n",
       "      <td>...</td>\n",
       "      <td>...</td>\n",
       "      <td>...</td>\n",
       "      <td>...</td>\n",
       "      <td>...</td>\n",
       "    </tr>\n",
       "    <tr>\n",
       "      <th>78</th>\n",
       "      <td>76</td>\n",
       "      <td>2008-04-08</td>\n",
       "      <td>1</td>\n",
       "      <td>37:09</td>\n",
       "      <td>6.0</td>\n",
       "      <td>16.0</td>\n",
       "      <td>.375</td>\n",
       "      <td>0.0</td>\n",
       "      <td>0.0</td>\n",
       "      <td>4.0</td>\n",
       "      <td>...</td>\n",
       "      <td>6.0</td>\n",
       "      <td>3.0</td>\n",
       "      <td>0.0</td>\n",
       "      <td>1.0</td>\n",
       "      <td>0.0</td>\n",
       "      <td>0.0</td>\n",
       "      <td>16.0</td>\n",
       "      <td>-20</td>\n",
       "      <td>1.0</td>\n",
       "      <td>10.0</td>\n",
       "    </tr>\n",
       "    <tr>\n",
       "      <th>79</th>\n",
       "      <td>77</td>\n",
       "      <td>2008-04-09</td>\n",
       "      <td>1</td>\n",
       "      <td>38:41</td>\n",
       "      <td>10.0</td>\n",
       "      <td>23.0</td>\n",
       "      <td>.435</td>\n",
       "      <td>1.0</td>\n",
       "      <td>1.0</td>\n",
       "      <td>5.0</td>\n",
       "      <td>...</td>\n",
       "      <td>3.0</td>\n",
       "      <td>4.0</td>\n",
       "      <td>4.0</td>\n",
       "      <td>0.0</td>\n",
       "      <td>2.0</td>\n",
       "      <td>1.0</td>\n",
       "      <td>26.0</td>\n",
       "      <td>-8</td>\n",
       "      <td>2.0</td>\n",
       "      <td>13.0</td>\n",
       "    </tr>\n",
       "    <tr>\n",
       "      <th>80</th>\n",
       "      <td>78</td>\n",
       "      <td>2008-04-11</td>\n",
       "      <td>1</td>\n",
       "      <td>34:40</td>\n",
       "      <td>9.0</td>\n",
       "      <td>19.0</td>\n",
       "      <td>.474</td>\n",
       "      <td>0.0</td>\n",
       "      <td>0.0</td>\n",
       "      <td>2.0</td>\n",
       "      <td>...</td>\n",
       "      <td>6.0</td>\n",
       "      <td>3.0</td>\n",
       "      <td>0.0</td>\n",
       "      <td>1.0</td>\n",
       "      <td>0.0</td>\n",
       "      <td>1.0</td>\n",
       "      <td>20.0</td>\n",
       "      <td>-18</td>\n",
       "      <td>1.0</td>\n",
       "      <td>10.0</td>\n",
       "    </tr>\n",
       "    <tr>\n",
       "      <th>81</th>\n",
       "      <td>79</td>\n",
       "      <td>2008-04-13</td>\n",
       "      <td>1</td>\n",
       "      <td>39:46</td>\n",
       "      <td>7.0</td>\n",
       "      <td>18.0</td>\n",
       "      <td>.389</td>\n",
       "      <td>0.0</td>\n",
       "      <td>0.0</td>\n",
       "      <td>5.0</td>\n",
       "      <td>...</td>\n",
       "      <td>5.0</td>\n",
       "      <td>3.0</td>\n",
       "      <td>1.0</td>\n",
       "      <td>2.0</td>\n",
       "      <td>1.0</td>\n",
       "      <td>3.0</td>\n",
       "      <td>19.0</td>\n",
       "      <td>0</td>\n",
       "      <td>1.0</td>\n",
       "      <td>11.0</td>\n",
       "    </tr>\n",
       "    <tr>\n",
       "      <th>82</th>\n",
       "      <td>80</td>\n",
       "      <td>2008-04-16</td>\n",
       "      <td>1</td>\n",
       "      <td>42:37</td>\n",
       "      <td>18.0</td>\n",
       "      <td>25.0</td>\n",
       "      <td>.720</td>\n",
       "      <td>1.0</td>\n",
       "      <td>1.0</td>\n",
       "      <td>5.0</td>\n",
       "      <td>...</td>\n",
       "      <td>13.0</td>\n",
       "      <td>6.0</td>\n",
       "      <td>1.0</td>\n",
       "      <td>2.0</td>\n",
       "      <td>5.0</td>\n",
       "      <td>0.0</td>\n",
       "      <td>42.0</td>\n",
       "      <td>+14</td>\n",
       "      <td>1.0</td>\n",
       "      <td>7.0</td>\n",
       "    </tr>\n",
       "  </tbody>\n",
       "</table>\n",
       "<p>80 rows × 23 columns</p>\n",
       "</div>"
      ],
      "text/plain": [
       "     G       Date GS     MP    FG   FGA   FG%   3P  3PA    FT  ...   TRB  AST  \\\n",
       "Rk                                                             ...              \n",
       "1    1 2007-10-31  1  31:34   7.0  22.0  .318  2.0  2.0   2.0  ...   5.0  1.0   \n",
       "2    2 2007-11-01  1  39:19  11.0  23.0  .478  2.0  2.0   3.0  ...   5.0  1.0   \n",
       "3    3 2007-11-04  1  37:17  10.0  19.0  .526  3.0  3.0   1.0  ...   8.0  5.0   \n",
       "4    4 2007-11-06  1  33:38  11.0  22.0  .500  3.0  3.0   2.0  ...   7.0  4.0   \n",
       "5    5 2007-11-07  1  31:38   3.0  17.0  .176  1.0  1.0  10.0  ...   2.0  1.0   \n",
       "..  ..        ... ..    ...   ...   ...   ...  ...  ...   ...  ...   ...  ...   \n",
       "78  76 2008-04-08  1  37:09   6.0  16.0  .375  0.0  0.0   4.0  ...   6.0  3.0   \n",
       "79  77 2008-04-09  1  38:41  10.0  23.0  .435  1.0  1.0   5.0  ...   3.0  4.0   \n",
       "80  78 2008-04-11  1  34:40   9.0  19.0  .474  0.0  0.0   2.0  ...   6.0  3.0   \n",
       "81  79 2008-04-13  1  39:46   7.0  18.0  .389  0.0  0.0   5.0  ...   5.0  3.0   \n",
       "82  80 2008-04-16  1  42:37  18.0  25.0  .720  1.0  1.0   5.0  ...  13.0  6.0   \n",
       "\n",
       "    STL  BLK  TOV   PF   PTS  +/-  FTM   FGM  \n",
       "Rk                                            \n",
       "1   3.0  1.0  2.0  3.0  18.0   -8  2.0  15.0  \n",
       "2   0.0  1.0  6.0  2.0  27.0   -3  1.0  12.0  \n",
       "3   0.0  1.0  1.0  2.0  24.0  -18  1.0   9.0  \n",
       "4   1.0  0.0  6.0  2.0  27.0  -16  1.0  11.0  \n",
       "5   1.0  0.0  2.0  2.0  17.0   -9  0.0  14.0  \n",
       "..  ...  ...  ...  ...   ...  ...  ...   ...  \n",
       "78  0.0  1.0  0.0  0.0  16.0  -20  1.0  10.0  \n",
       "79  4.0  0.0  2.0  1.0  26.0   -8  2.0  13.0  \n",
       "80  0.0  1.0  0.0  1.0  20.0  -18  1.0  10.0  \n",
       "81  1.0  2.0  1.0  3.0  19.0    0  1.0  11.0  \n",
       "82  1.0  2.0  5.0  0.0  42.0  +14  1.0   7.0  \n",
       "\n",
       "[80 rows x 23 columns]"
      ]
     },
     "execution_count": 755,
     "metadata": {},
     "output_type": "execute_result"
    }
   ],
   "source": [
    "def get_data(year):\n",
    "    url = f\"https://www.basketball-reference.com/players/d/duranke01/gamelog/{year}\"\n",
    "    results = requests.get(url)\n",
    "    stats_08 = pd.read_html(url, header=0)\n",
    "    data = stats_08[7]\n",
    "    data['Date'] = pd.to_datetime(data['Date'], errors='coerce')\n",
    "    \n",
    "    #Data Cleaning \n",
    "\n",
    "    # print(data.dtypes)\n",
    "    data.drop(columns=['Unnamed: 5', 'Unnamed: 7','Age'], inplace=True)\n",
    "    \n",
    "    data['FG'] = pd.to_numeric(data['FG'],  errors='coerce')\n",
    "    data['FGA'] = pd.to_numeric(data['FGA'],  errors='coerce')\n",
    "    data['3P'] = pd.to_numeric(data['3P'],  errors='coerce')\n",
    "    data['3PA'] = pd.to_numeric(data['3P'],  errors='coerce')\n",
    "    data['FT'] = pd.to_numeric(data['FT'], errors='coerce')\n",
    "    data['FTA'] = pd.to_numeric(data['FTA'], errors='coerce')\n",
    "    data['TRB'] = pd.to_numeric(data['TRB'], errors='coerce')\n",
    "    data['AST'] = pd.to_numeric(data['AST'], errors='coerce')\n",
    "    data['STL'] = pd.to_numeric(data['STL'], errors='coerce')\n",
    "    data['BLK'] = pd.to_numeric(data['BLK'], errors='coerce')\n",
    "    data['TOV'] = pd.to_numeric(data['TOV'], errors='coerce')\n",
    "    data['PTS'] = pd.to_numeric(data['PTS'], errors='coerce')\n",
    "    data['PF'] =  pd.to_numeric(data['PF'],  errors='coerce')\n",
    "    data['ORB'] = pd.to_numeric(data['ORB'],  errors='coerce')\n",
    "    data['DRB'] = pd.to_numeric(data['DRB'],  errors='coerce')\n",
    "    # # data[['FG', 'FGA', '3P', '3PA', 'FT', 'FTA', 'TRB', 'AST', 'STL', 'BLK', 'TOV', 'PTS', 'PF', 'ORB', 'DRB']] \n",
    "    # print(data.dtypes)\n",
    "    blank = data[data['PTS'].isnull()].index\n",
    "    data.drop(blank, inplace=True)\n",
    "    empty_rows = data[data['MP'] == 'MP'].index\n",
    "    data.drop(empty_rows, inplace=True)\n",
    "    data.set_index('Rk', drop=True, inplace=True)\n",
    "    data.drop(columns=['3P%', 'FT%', 'GmSc', 'Tm', 'Opp'], inplace=True)\n",
    "   \n",
    "    #Create a new column within the data of field goals missed and free throws missed \n",
    "    FT_Miss = data['FTA'] - data['FT']\n",
    "    FG_Miss = data['FGA'] - data['FG'] \n",
    "    data['FTM'] = FT_Miss\n",
    "    data['FGM'] = FG_Miss\n",
    "    return data\n",
    "get_data(2008)\n",
    "# get_data(2009)\n",
    "# get_data(2010)\n",
    "# get_data(2011)"
   ]
  },
  {
   "cell_type": "code",
   "execution_count": 756,
   "metadata": {},
   "outputs": [
    {
     "data": {
      "text/html": [
       "<div>\n",
       "<style scoped>\n",
       "    .dataframe tbody tr th:only-of-type {\n",
       "        vertical-align: middle;\n",
       "    }\n",
       "\n",
       "    .dataframe tbody tr th {\n",
       "        vertical-align: top;\n",
       "    }\n",
       "\n",
       "    .dataframe thead th {\n",
       "        text-align: right;\n",
       "    }\n",
       "</style>\n",
       "<table border=\"1\" class=\"dataframe\">\n",
       "  <thead>\n",
       "    <tr style=\"text-align: right;\">\n",
       "      <th></th>\n",
       "      <th>G</th>\n",
       "      <th>Date</th>\n",
       "      <th>GS</th>\n",
       "      <th>MP</th>\n",
       "      <th>FG</th>\n",
       "      <th>FGA</th>\n",
       "      <th>FG%</th>\n",
       "      <th>3P</th>\n",
       "      <th>3PA</th>\n",
       "      <th>FT</th>\n",
       "      <th>...</th>\n",
       "      <th>TRB</th>\n",
       "      <th>AST</th>\n",
       "      <th>STL</th>\n",
       "      <th>BLK</th>\n",
       "      <th>TOV</th>\n",
       "      <th>PF</th>\n",
       "      <th>PTS</th>\n",
       "      <th>+/-</th>\n",
       "      <th>FTM</th>\n",
       "      <th>FGM</th>\n",
       "    </tr>\n",
       "    <tr>\n",
       "      <th>Rk</th>\n",
       "      <th></th>\n",
       "      <th></th>\n",
       "      <th></th>\n",
       "      <th></th>\n",
       "      <th></th>\n",
       "      <th></th>\n",
       "      <th></th>\n",
       "      <th></th>\n",
       "      <th></th>\n",
       "      <th></th>\n",
       "      <th></th>\n",
       "      <th></th>\n",
       "      <th></th>\n",
       "      <th></th>\n",
       "      <th></th>\n",
       "      <th></th>\n",
       "      <th></th>\n",
       "      <th></th>\n",
       "      <th></th>\n",
       "      <th></th>\n",
       "      <th></th>\n",
       "    </tr>\n",
       "  </thead>\n",
       "  <tbody>\n",
       "    <tr>\n",
       "      <th>1</th>\n",
       "      <td>1</td>\n",
       "      <td>2008-10-29</td>\n",
       "      <td>1</td>\n",
       "      <td>33:37</td>\n",
       "      <td>5.0</td>\n",
       "      <td>14.0</td>\n",
       "      <td>.357</td>\n",
       "      <td>0.0</td>\n",
       "      <td>0.0</td>\n",
       "      <td>2.0</td>\n",
       "      <td>...</td>\n",
       "      <td>3.0</td>\n",
       "      <td>2.0</td>\n",
       "      <td>0.0</td>\n",
       "      <td>0.0</td>\n",
       "      <td>4.0</td>\n",
       "      <td>4.0</td>\n",
       "      <td>12.0</td>\n",
       "      <td>-14</td>\n",
       "      <td>0.0</td>\n",
       "      <td>9.0</td>\n",
       "    </tr>\n",
       "    <tr>\n",
       "      <th>2</th>\n",
       "      <td>2</td>\n",
       "      <td>2008-11-01</td>\n",
       "      <td>1</td>\n",
       "      <td>34:59</td>\n",
       "      <td>11.0</td>\n",
       "      <td>20.0</td>\n",
       "      <td>.550</td>\n",
       "      <td>0.0</td>\n",
       "      <td>0.0</td>\n",
       "      <td>4.0</td>\n",
       "      <td>...</td>\n",
       "      <td>5.0</td>\n",
       "      <td>2.0</td>\n",
       "      <td>4.0</td>\n",
       "      <td>0.0</td>\n",
       "      <td>3.0</td>\n",
       "      <td>2.0</td>\n",
       "      <td>26.0</td>\n",
       "      <td>-1</td>\n",
       "      <td>0.0</td>\n",
       "      <td>9.0</td>\n",
       "    </tr>\n",
       "    <tr>\n",
       "      <th>3</th>\n",
       "      <td>3</td>\n",
       "      <td>2008-11-02</td>\n",
       "      <td>1</td>\n",
       "      <td>37:30</td>\n",
       "      <td>7.0</td>\n",
       "      <td>21.0</td>\n",
       "      <td>.333</td>\n",
       "      <td>0.0</td>\n",
       "      <td>0.0</td>\n",
       "      <td>4.0</td>\n",
       "      <td>...</td>\n",
       "      <td>5.0</td>\n",
       "      <td>0.0</td>\n",
       "      <td>0.0</td>\n",
       "      <td>1.0</td>\n",
       "      <td>1.0</td>\n",
       "      <td>0.0</td>\n",
       "      <td>18.0</td>\n",
       "      <td>-2</td>\n",
       "      <td>1.0</td>\n",
       "      <td>14.0</td>\n",
       "    </tr>\n",
       "    <tr>\n",
       "      <th>4</th>\n",
       "      <td>4</td>\n",
       "      <td>2008-11-05</td>\n",
       "      <td>1</td>\n",
       "      <td>32:20</td>\n",
       "      <td>6.0</td>\n",
       "      <td>15.0</td>\n",
       "      <td>.400</td>\n",
       "      <td>0.0</td>\n",
       "      <td>0.0</td>\n",
       "      <td>5.0</td>\n",
       "      <td>...</td>\n",
       "      <td>2.0</td>\n",
       "      <td>2.0</td>\n",
       "      <td>1.0</td>\n",
       "      <td>1.0</td>\n",
       "      <td>3.0</td>\n",
       "      <td>0.0</td>\n",
       "      <td>17.0</td>\n",
       "      <td>-1</td>\n",
       "      <td>1.0</td>\n",
       "      <td>9.0</td>\n",
       "    </tr>\n",
       "    <tr>\n",
       "      <th>5</th>\n",
       "      <td>5</td>\n",
       "      <td>2008-11-07</td>\n",
       "      <td>1</td>\n",
       "      <td>33:50</td>\n",
       "      <td>9.0</td>\n",
       "      <td>15.0</td>\n",
       "      <td>.600</td>\n",
       "      <td>1.0</td>\n",
       "      <td>1.0</td>\n",
       "      <td>5.0</td>\n",
       "      <td>...</td>\n",
       "      <td>5.0</td>\n",
       "      <td>3.0</td>\n",
       "      <td>1.0</td>\n",
       "      <td>0.0</td>\n",
       "      <td>2.0</td>\n",
       "      <td>4.0</td>\n",
       "      <td>24.0</td>\n",
       "      <td>-7</td>\n",
       "      <td>1.0</td>\n",
       "      <td>6.0</td>\n",
       "    </tr>\n",
       "    <tr>\n",
       "      <th>...</th>\n",
       "      <td>...</td>\n",
       "      <td>...</td>\n",
       "      <td>...</td>\n",
       "      <td>...</td>\n",
       "      <td>...</td>\n",
       "      <td>...</td>\n",
       "      <td>...</td>\n",
       "      <td>...</td>\n",
       "      <td>...</td>\n",
       "      <td>...</td>\n",
       "      <td>...</td>\n",
       "      <td>...</td>\n",
       "      <td>...</td>\n",
       "      <td>...</td>\n",
       "      <td>...</td>\n",
       "      <td>...</td>\n",
       "      <td>...</td>\n",
       "      <td>...</td>\n",
       "      <td>...</td>\n",
       "      <td>...</td>\n",
       "      <td>...</td>\n",
       "    </tr>\n",
       "    <tr>\n",
       "      <th>78</th>\n",
       "      <td>70</td>\n",
       "      <td>2009-04-08</td>\n",
       "      <td>1</td>\n",
       "      <td>40:46</td>\n",
       "      <td>9.0</td>\n",
       "      <td>20.0</td>\n",
       "      <td>.450</td>\n",
       "      <td>2.0</td>\n",
       "      <td>2.0</td>\n",
       "      <td>11.0</td>\n",
       "      <td>...</td>\n",
       "      <td>7.0</td>\n",
       "      <td>0.0</td>\n",
       "      <td>0.0</td>\n",
       "      <td>1.0</td>\n",
       "      <td>1.0</td>\n",
       "      <td>3.0</td>\n",
       "      <td>31.0</td>\n",
       "      <td>-12</td>\n",
       "      <td>1.0</td>\n",
       "      <td>11.0</td>\n",
       "    </tr>\n",
       "    <tr>\n",
       "      <th>79</th>\n",
       "      <td>71</td>\n",
       "      <td>2009-04-10</td>\n",
       "      <td>1</td>\n",
       "      <td>44:28</td>\n",
       "      <td>9.0</td>\n",
       "      <td>24.0</td>\n",
       "      <td>.375</td>\n",
       "      <td>1.0</td>\n",
       "      <td>1.0</td>\n",
       "      <td>1.0</td>\n",
       "      <td>...</td>\n",
       "      <td>10.0</td>\n",
       "      <td>1.0</td>\n",
       "      <td>3.0</td>\n",
       "      <td>2.0</td>\n",
       "      <td>4.0</td>\n",
       "      <td>5.0</td>\n",
       "      <td>20.0</td>\n",
       "      <td>+1</td>\n",
       "      <td>2.0</td>\n",
       "      <td>15.0</td>\n",
       "    </tr>\n",
       "    <tr>\n",
       "      <th>80</th>\n",
       "      <td>72</td>\n",
       "      <td>2009-04-11</td>\n",
       "      <td>1</td>\n",
       "      <td>28:11</td>\n",
       "      <td>6.0</td>\n",
       "      <td>13.0</td>\n",
       "      <td>.462</td>\n",
       "      <td>3.0</td>\n",
       "      <td>3.0</td>\n",
       "      <td>4.0</td>\n",
       "      <td>...</td>\n",
       "      <td>5.0</td>\n",
       "      <td>2.0</td>\n",
       "      <td>3.0</td>\n",
       "      <td>0.0</td>\n",
       "      <td>4.0</td>\n",
       "      <td>3.0</td>\n",
       "      <td>19.0</td>\n",
       "      <td>-16</td>\n",
       "      <td>0.0</td>\n",
       "      <td>7.0</td>\n",
       "    </tr>\n",
       "    <tr>\n",
       "      <th>81</th>\n",
       "      <td>73</td>\n",
       "      <td>2009-04-13</td>\n",
       "      <td>1</td>\n",
       "      <td>31:53</td>\n",
       "      <td>5.0</td>\n",
       "      <td>15.0</td>\n",
       "      <td>.333</td>\n",
       "      <td>0.0</td>\n",
       "      <td>0.0</td>\n",
       "      <td>0.0</td>\n",
       "      <td>...</td>\n",
       "      <td>2.0</td>\n",
       "      <td>0.0</td>\n",
       "      <td>0.0</td>\n",
       "      <td>1.0</td>\n",
       "      <td>1.0</td>\n",
       "      <td>2.0</td>\n",
       "      <td>10.0</td>\n",
       "      <td>-29</td>\n",
       "      <td>0.0</td>\n",
       "      <td>10.0</td>\n",
       "    </tr>\n",
       "    <tr>\n",
       "      <th>82</th>\n",
       "      <td>74</td>\n",
       "      <td>2009-04-15</td>\n",
       "      <td>1</td>\n",
       "      <td>32:11</td>\n",
       "      <td>8.0</td>\n",
       "      <td>15.0</td>\n",
       "      <td>.533</td>\n",
       "      <td>2.0</td>\n",
       "      <td>2.0</td>\n",
       "      <td>8.0</td>\n",
       "      <td>...</td>\n",
       "      <td>9.0</td>\n",
       "      <td>3.0</td>\n",
       "      <td>4.0</td>\n",
       "      <td>0.0</td>\n",
       "      <td>1.0</td>\n",
       "      <td>0.0</td>\n",
       "      <td>26.0</td>\n",
       "      <td>+25</td>\n",
       "      <td>2.0</td>\n",
       "      <td>7.0</td>\n",
       "    </tr>\n",
       "  </tbody>\n",
       "</table>\n",
       "<p>74 rows × 23 columns</p>\n",
       "</div>"
      ],
      "text/plain": [
       "     G       Date GS     MP    FG   FGA   FG%   3P  3PA    FT  ...   TRB  AST  \\\n",
       "Rk                                                             ...              \n",
       "1    1 2008-10-29  1  33:37   5.0  14.0  .357  0.0  0.0   2.0  ...   3.0  2.0   \n",
       "2    2 2008-11-01  1  34:59  11.0  20.0  .550  0.0  0.0   4.0  ...   5.0  2.0   \n",
       "3    3 2008-11-02  1  37:30   7.0  21.0  .333  0.0  0.0   4.0  ...   5.0  0.0   \n",
       "4    4 2008-11-05  1  32:20   6.0  15.0  .400  0.0  0.0   5.0  ...   2.0  2.0   \n",
       "5    5 2008-11-07  1  33:50   9.0  15.0  .600  1.0  1.0   5.0  ...   5.0  3.0   \n",
       "..  ..        ... ..    ...   ...   ...   ...  ...  ...   ...  ...   ...  ...   \n",
       "78  70 2009-04-08  1  40:46   9.0  20.0  .450  2.0  2.0  11.0  ...   7.0  0.0   \n",
       "79  71 2009-04-10  1  44:28   9.0  24.0  .375  1.0  1.0   1.0  ...  10.0  1.0   \n",
       "80  72 2009-04-11  1  28:11   6.0  13.0  .462  3.0  3.0   4.0  ...   5.0  2.0   \n",
       "81  73 2009-04-13  1  31:53   5.0  15.0  .333  0.0  0.0   0.0  ...   2.0  0.0   \n",
       "82  74 2009-04-15  1  32:11   8.0  15.0  .533  2.0  2.0   8.0  ...   9.0  3.0   \n",
       "\n",
       "    STL  BLK  TOV   PF   PTS  +/-  FTM   FGM  \n",
       "Rk                                            \n",
       "1   0.0  0.0  4.0  4.0  12.0  -14  0.0   9.0  \n",
       "2   4.0  0.0  3.0  2.0  26.0   -1  0.0   9.0  \n",
       "3   0.0  1.0  1.0  0.0  18.0   -2  1.0  14.0  \n",
       "4   1.0  1.0  3.0  0.0  17.0   -1  1.0   9.0  \n",
       "5   1.0  0.0  2.0  4.0  24.0   -7  1.0   6.0  \n",
       "..  ...  ...  ...  ...   ...  ...  ...   ...  \n",
       "78  0.0  1.0  1.0  3.0  31.0  -12  1.0  11.0  \n",
       "79  3.0  2.0  4.0  5.0  20.0   +1  2.0  15.0  \n",
       "80  3.0  0.0  4.0  3.0  19.0  -16  0.0   7.0  \n",
       "81  0.0  1.0  1.0  2.0  10.0  -29  0.0  10.0  \n",
       "82  4.0  0.0  1.0  0.0  26.0  +25  2.0   7.0  \n",
       "\n",
       "[74 rows x 23 columns]"
      ]
     },
     "execution_count": 756,
     "metadata": {},
     "output_type": "execute_result"
    }
   ],
   "source": [
    "get_data(2009)"
   ]
  },
  {
   "cell_type": "markdown",
   "metadata": {},
   "source": [
    "Calculation Method\n",
    "\n",
    "NBA Player Eff == (Pts + Reb + Ast + Stl + Blk - Missed FG - Missed Ft - To) / GP or minutes for single game \n",
    "FGM * 85.910 + Stl(53.897) + 3PTM(51.757) + FTM (46.845) + Blks(39.190) + OFB(39.19) + Ast(34.677) + DRB(14.707) - F(20.091) - FT_Miss(20.091) - FG_Miss(39.190) - T0(53.897)"
   ]
  },
  {
   "cell_type": "code",
   "execution_count": 757,
   "metadata": {},
   "outputs": [],
   "source": [
    "data = get_data(2008)\n",
    "data09 = get_data(2009)\n",
    "# data10 = get_data(2010)\n",
    "# data11 = get_data(2011)\n",
    "\n",
    "#Formula for effiency \n",
    "EFF = ((((data['FG']*85.910)+ (data['STL']*53.897) + (data['3P']*51.757) + (data['FT']*46.845)+ (data['BLK']*39.190) + (data['ORB']*39.19) + (data['AST']*34.677) + (data['DRB']*14.707)) - ((data['PF']*20.091) - (data['FTM']*20.091) - (data['FGM']*39.190) - (data['TOV']*53.897)))) / 72\n",
    "raw_eff = ((((data['FG'])+ (data['STL']) + (data['3P']) + (data['FT'])+ (data['BLK']) + (data['ORB']) + (data['AST']) + (data['DRB'])) - ((data['PF']) - (data['FTM']) - (data['FGM']) - (data['TOV']))))/ 72 \n",
    "\n",
    "#Minutes Control \n",
    "less_than_30min = data[data['MP'] < '30:00'].sort_values(['MP'], ascending=True)\n",
    "more_than_30min = data[data['MP'] > '30:00'].sort_values(['MP'], ascending=True)\n",
    "\n",
    "\n",
    "total_stats = {\"2007-08\":{'FG': '', 'FGA': '', '3P': '', '3PA': '', 'FT': '', 'FTA': '', 'TRB': '', 'AST': '', 'STL': '', 'BLK': '', 'TOV': '', 'PTS': '', 'PF': '', 'ORB': '', 'DRB': ''}, \n",
    "               \"2008-09\":{'FG': '', 'FGA': '', '3P': '', '3PA': '', 'FT': '', 'FTA': '', 'TRB': '', 'AST': '', 'STL': '', 'BLK': '', 'TOV': '', 'PTS': '', 'PF': '', 'ORB': '', 'DRB': ''},}\n",
    "pre = {\"2007-08\":{'FG': '', 'FGA': '', '3P': '', '3PA': '', 'FT': '', 'FTA': '', 'TRB': '', 'AST': '', 'STL': '', 'BLK': '', 'TOV': '', 'PTS': '', 'PF': '', 'ORB': '', 'DRB': ''},\n",
    "        \"2008-09\":{'FG': '', 'FGA': '', '3P': '', '3PA': '', 'FT': '', 'FTA': '', 'TRB': '', 'AST': '', 'STL': '', 'BLK': '', 'TOV': '', 'PTS': '', 'PF': '', 'ORB': '', 'DRB': ''}}\n",
    "post = {\"2007-08\":{'FG': '', 'FGA': '', '3P': '', '3PA': '', 'FT': '', 'FTA': '', 'TRB': '', 'AST': '', 'STL': '', 'BLK': '', 'TOV': '', 'PTS': '', 'PF': '', 'ORB': '', 'DRB': '' },\n",
    "        \"2008-09\":{'FG': '', 'FGA': '', '3P': '', '3PA': '', 'FT': '', 'FTA': '', 'TRB': '', 'AST': '', 'STL': '', 'BLK': '', 'TOV': '', 'PTS': '', 'PF': '', 'ORB': '', 'DRB': ''}}"
   ]
  },
  {
   "cell_type": "code",
   "execution_count": 758,
   "metadata": {},
   "outputs": [
    {
     "data": {
      "text/plain": [
       "(80, 23)"
      ]
     },
     "execution_count": 758,
     "metadata": {},
     "output_type": "execute_result"
    }
   ],
   "source": [
    "data.shape"
   ]
  },
  {
   "cell_type": "markdown",
   "metadata": {},
   "source": [
    "Check for null values "
   ]
  },
  {
   "cell_type": "code",
   "execution_count": 759,
   "metadata": {},
   "outputs": [
    {
     "data": {
      "text/plain": [
       "G       0\n",
       "Date    0\n",
       "GS      0\n",
       "MP      0\n",
       "FG      0\n",
       "FGA     0\n",
       "FG%     0\n",
       "3P      0\n",
       "3PA     0\n",
       "FT      0\n",
       "FTA     0\n",
       "ORB     0\n",
       "DRB     0\n",
       "TRB     0\n",
       "AST     0\n",
       "STL     0\n",
       "BLK     0\n",
       "TOV     0\n",
       "PF      0\n",
       "PTS     0\n",
       "+/-     0\n",
       "FTM     0\n",
       "FGM     0\n",
       "dtype: int64"
      ]
     },
     "execution_count": 759,
     "metadata": {},
     "output_type": "execute_result"
    }
   ],
   "source": [
    "# data['G'].dropna(how='all')\n",
    "# data[data['G'] == '31']\n",
    "check = data.isnull().sum()\n",
    "check\n",
    "\n"
   ]
  },
  {
   "cell_type": "code",
   "execution_count": 760,
   "metadata": {},
   "outputs": [
    {
     "data": {
      "text/html": [
       "<div>\n",
       "<style scoped>\n",
       "    .dataframe tbody tr th:only-of-type {\n",
       "        vertical-align: middle;\n",
       "    }\n",
       "\n",
       "    .dataframe tbody tr th {\n",
       "        vertical-align: top;\n",
       "    }\n",
       "\n",
       "    .dataframe thead th {\n",
       "        text-align: right;\n",
       "    }\n",
       "</style>\n",
       "<table border=\"1\" class=\"dataframe\">\n",
       "  <thead>\n",
       "    <tr style=\"text-align: right;\">\n",
       "      <th></th>\n",
       "      <th>G</th>\n",
       "      <th>Date</th>\n",
       "      <th>GS</th>\n",
       "      <th>MP</th>\n",
       "      <th>FG</th>\n",
       "      <th>FGA</th>\n",
       "      <th>FG%</th>\n",
       "      <th>3P</th>\n",
       "      <th>3PA</th>\n",
       "      <th>FT</th>\n",
       "      <th>...</th>\n",
       "      <th>TRB</th>\n",
       "      <th>AST</th>\n",
       "      <th>STL</th>\n",
       "      <th>BLK</th>\n",
       "      <th>TOV</th>\n",
       "      <th>PF</th>\n",
       "      <th>PTS</th>\n",
       "      <th>+/-</th>\n",
       "      <th>FTM</th>\n",
       "      <th>FGM</th>\n",
       "    </tr>\n",
       "    <tr>\n",
       "      <th>Rk</th>\n",
       "      <th></th>\n",
       "      <th></th>\n",
       "      <th></th>\n",
       "      <th></th>\n",
       "      <th></th>\n",
       "      <th></th>\n",
       "      <th></th>\n",
       "      <th></th>\n",
       "      <th></th>\n",
       "      <th></th>\n",
       "      <th></th>\n",
       "      <th></th>\n",
       "      <th></th>\n",
       "      <th></th>\n",
       "      <th></th>\n",
       "      <th></th>\n",
       "      <th></th>\n",
       "      <th></th>\n",
       "      <th></th>\n",
       "      <th></th>\n",
       "      <th></th>\n",
       "    </tr>\n",
       "  </thead>\n",
       "  <tbody>\n",
       "  </tbody>\n",
       "</table>\n",
       "<p>0 rows × 23 columns</p>\n",
       "</div>"
      ],
      "text/plain": [
       "Empty DataFrame\n",
       "Columns: [G, Date, GS, MP, FG, FGA, FG%, 3P, 3PA, FT, FTA, ORB, DRB, TRB, AST, STL, BLK, TOV, PF, PTS, +/-, FTM, FGM]\n",
       "Index: []\n",
       "\n",
       "[0 rows x 23 columns]"
      ]
     },
     "execution_count": 760,
     "metadata": {},
     "output_type": "execute_result"
    }
   ],
   "source": [
    "#Locate misssing values \n",
    "data[data['PTS'].isnull()]"
   ]
  },
  {
   "cell_type": "code",
   "execution_count": 761,
   "metadata": {},
   "outputs": [
    {
     "name": "stdout",
     "output_type": "stream",
     "text": [
      "FG : 587.0\n",
      "587.0\n"
     ]
    }
   ],
   "source": [
    "def stat_header(header):\n",
    "    for x in data:\n",
    "        x = data[header].sum()\n",
    "        total_stats[header] = x\n",
    "        return f\"{header} : {x}\"   \n",
    "print(stat_header('FG'))\n",
    "print(total_stats['FG'])\n",
    "\n"
   ]
  },
  {
   "cell_type": "code",
   "execution_count": 762,
   "metadata": {},
   "outputs": [
    {
     "name": "stdout",
     "output_type": "stream",
     "text": [
      "{'FG': 242.0, 'FGA': 508.0, '3P': 11.0, '3PA': 11.0, 'FT': 161.0, 'FTA': 182.0, 'TRB': 143.0, 'AST': 81.0, 'STL': 30.0, 'BLK': 22.0, 'TOV': 93.0, 'PTS': 656.0, 'PF': 51.0, 'ORB': 34.0, 'DRB': 109.0}\n"
     ]
    }
   ],
   "source": [
    "#Points Before and After The All Star Game\n",
    "# # Can i create a function that would loop through all the headers and get the sum of those as well \n",
    "def header_sum_post(header, season):\n",
    "    post_all_star = data[data['Date'] > '2008-02-16']\n",
    "    post_All_PTS = post_all_star[header].sum()\n",
    "    post[season][header] = post_All_PTS\n",
    "    return f\"After All Star Break: {post_All_PTS}\"\n",
    "header_sum_post('FG', '2007-08')\n",
    "header_sum_post('FGA', '2007-08')\n",
    "header_sum_post('3P', '2007-08')\n",
    "header_sum_post('FT', '2007-08')\n",
    "header_sum_post('FTA', '2007-08')\n",
    "header_sum_post('TRB', '2007-08')\n",
    "header_sum_post('AST', '2007-08')\n",
    "header_sum_post('STL', '2007-08')\n",
    "header_sum_post('BLK', '2007-08')\n",
    "header_sum_post('TOV', '2007-08')\n",
    "header_sum_post('PTS', '2007-08')\n",
    "header_sum_post('PF', '2007-08')\n",
    "header_sum_post('ORB', '2007-08')\n",
    "header_sum_post('DRB',  '2007-08')\n",
    "header_sum_post('3PA',  '2007-08')\n",
    "header_sum_post('3PA', '2007-08')\n",
    "print(post['2007-08'])"
   ]
  },
  {
   "cell_type": "markdown",
   "metadata": {},
   "source": [
    "Function player_eff_post will find the average (mean) of Kevin Durant PER score before and after specifed dates of All-Star game.\n",
    "    -Used this method becuase the All-Star is played after 50-52 games in the season and leaves only 30-32 games after the All-Star game"
   ]
  },
  {
   "cell_type": "code",
   "execution_count": 763,
   "metadata": {},
   "outputs": [
    {
     "name": "stdout",
     "output_type": "stream",
     "text": [
      "After All Star Break: 18.866666666666667\n"
     ]
    }
   ],
   "source": [
    "def player_eff_post(header):\n",
    "    eff40 = raw_eff * 40 \n",
    "    data['EFF/40'] = eff40.round(decimals=0)\n",
    "    data['EFF/40'] = pd.to_numeric(data['EFF/40'], errors='coerce')\n",
    "    post_all_star = data[data['Date'] > '2008-02-16']\n",
    "    post_All_PTS = post_all_star[header].mean()\n",
    "    post[header] = post_All_PTS\n",
    "    return f\"After All Star Break: {post_All_PTS}\"\n",
    "print(player_eff_post('EFF/40'))"
   ]
  },
  {
   "cell_type": "markdown",
   "metadata": {},
   "source": [
    "After the All-Star Break (2008) Kevin Durant averaged a PER Score of 18.67. This finding will be compared to his PER before the All-Star game to decide whether he is more efficent of a performer before or after the All-Star game."
   ]
  },
  {
   "cell_type": "code",
   "execution_count": 764,
   "metadata": {},
   "outputs": [
    {
     "data": {
      "text/plain": [
       "[Text(0.5, 0, 'Games After All Star Break'), Text(0, 0.5, 'Durant PER Score')]"
      ]
     },
     "execution_count": 764,
     "metadata": {},
     "output_type": "execute_result"
    },
    {
     "data": {
      "image/png": "[encoded data removed]",
      "text/plain": [
       "<Figure size 1440x1440 with 1 Axes>"
      ]
     },
     "metadata": {
      "needs_background": "light"
     },
     "output_type": "display_data"
    }
   ],
   "source": [
    "\n",
    "def player_eff_plot_post(header):\n",
    "    eff40 = raw_eff * 40 \n",
    "    data['EFF/40'] = eff40.round(decimals=0)\n",
    "    data['EFF/40'] = pd.to_numeric(data['EFF/40'], errors='coerce')\n",
    "    post_all_star = data[data['Date'] > '2008-02-16']\n",
    "    post_All_PTS = post_all_star[header]\n",
    "    post[header] = post_All_PTS\n",
    "    games = post_all_star['G']\n",
    "    # Line Chart\n",
    "    # return plt.plot(post_All_PTS)\n",
    "    # Bar Chart \n",
    "    # plt.barh(np.arange(len(post_All_PTS)), post_All_PTS)\n",
    "    bar_plot = data.groupby(by=games).mean()[header] \n",
    "    plt.figure(figsize=(20,20))\n",
    "    graph = sns.barplot(x=bar_plot.index, y=bar_plot, order=games, color='red')\n",
    "    graph.bar_label(graph.containers[0])\n",
    "    return graph.set(xlabel='Games After All Star Break', ylabel='Durant PER Score')\n",
    "player_eff_plot_post('EFF/40')\n",
    "\n"
   ]
  },
  {
   "cell_type": "markdown",
   "metadata": {},
   "source": [
    "Choose bar plot to track his daily PER performace for each game he played"
   ]
  },
  {
   "cell_type": "code",
   "execution_count": 765,
   "metadata": {},
   "outputs": [
    {
     "name": "stdout",
     "output_type": "stream",
     "text": [
      "{'FG': 345.0, 'FGA': 858.0, '3P': 48.0, '3PA': 48.0, 'FT': 230.0, 'FTA': 266.0, 'TRB': 205.0, 'AST': 111.0, 'STL': 48.0, 'BLK': 53.0, 'TOV': 139.0, 'PTS': 968.0, 'PF': 71.0, 'ORB': 36.0, 'DRB': 169.0}\n"
     ]
    }
   ],
   "source": [
    "def header_sum_pre(header, season):\n",
    "    pre_allstar_game = data[data['Date'] < '2008-02-16']\n",
    "    pre_allstar_PTS = pre_allstar_game[header].sum()\n",
    "    pre[season][header]= pre_allstar_PTS\n",
    "    return f\"Before All Star Break: {pre_allstar_PTS}\"\n",
    "header_sum_pre('FG','2007-08')\n",
    "header_sum_pre('FGA','2007-08')\n",
    "header_sum_pre('3P','2007-08')\n",
    "header_sum_pre('FT','2007-08')\n",
    "header_sum_pre('FTA','2007-08')\n",
    "header_sum_pre('TRB','2007-08')\n",
    "header_sum_pre('AST', '2007-08')\n",
    "header_sum_pre('STL','2007-08')\n",
    "header_sum_pre('BLK','2007-08')\n",
    "header_sum_pre('TOV','2007-08')\n",
    "header_sum_pre('PTS', '2007-08')\n",
    "header_sum_pre('PF', '2007-08')\n",
    "header_sum_pre('ORB', '2007-08')\n",
    "header_sum_pre('DRB','2007-08')\n",
    "header_sum_pre('3PA', '2007-08')\n",
    "header_sum_pre('3PA', '2007-08')\n",
    "print(pre['2007-08'])"
   ]
  },
  {
   "cell_type": "code",
   "execution_count": 766,
   "metadata": {},
   "outputs": [
    {
     "name": "stdout",
     "output_type": "stream",
     "text": [
      "Before All Star Break: 18.44\n"
     ]
    }
   ],
   "source": [
    "def player_eff_pre(header): \n",
    "    # Create a paramter (date) that will filter multiple charts by hte date of the all star game \n",
    "    #Enter the all-star game date in the format allowed, make if statement to prevent wrong input \n",
    "    eff40 = raw_eff * 40 \n",
    "    data['EFF/40'] = eff40.round(decimals=0)\n",
    "    data['EFF/40'] = pd.to_numeric(data['EFF/40'], errors='coerce')\n",
    "    pre_allstar_game = data[data['Date'] < '2008-02-16']\n",
    "    pre_allstar_PTS = pre_allstar_game[header].mean()\n",
    "    pre[header] = pre_allstar_PTS\n",
    "    return f\"Before All Star Break: {pre_allstar_PTS}\"\n",
    "print(player_eff_pre('EFF/40'))"
   ]
  },
  {
   "cell_type": "markdown",
   "metadata": {},
   "source": [
    "Kevin Durant PER before the All-Star Game was 18.44, which was slighty lower than his performance after the All-Star game."
   ]
  },
  {
   "cell_type": "code",
   "execution_count": 767,
   "metadata": {},
   "outputs": [
    {
     "data": {
      "text/plain": [
       "[Text(0.5, 0, 'Games Before All Star Break'), Text(0, 0.5, 'Durant PER Score')]"
      ]
     },
     "execution_count": 767,
     "metadata": {},
     "output_type": "execute_result"
    },
    {
     "data": {
      "image/png": "[encoded data removed]",
      "text/plain": [
       "<Figure size 1440x1440 with 1 Axes>"
      ]
     },
     "metadata": {
      "needs_background": "light"
     },
     "output_type": "display_data"
    }
   ],
   "source": [
    "def player_eff_plot_pre(header):\n",
    "    eff40 = raw_eff * 40 \n",
    "    data['EFF/40'] = eff40.round(decimals=0)\n",
    "    data['EFF/40'] = pd.to_numeric(data['EFF/40'], errors='coerce')\n",
    "    post_all_star = data[data['Date'] < '2008-02-16']\n",
    "    post_All_PTS = post_all_star[header]\n",
    "    post[header] = post_All_PTS\n",
    "    games = post_all_star['G']\n",
    "    bar_plot = data.groupby(by=games).mean()[header] \n",
    "    plt.figure(figsize=(20,20))\n",
    "    graph = sns.barplot(x=bar_plot.index, y=bar_plot, color='Blue', order=games)\n",
    "    graph.bar_label(graph.containers[0])\n",
    "    return graph.set(xlabel='Games Before All Star Break', ylabel='Durant PER Score')\n",
    "    # Line Chart\n",
    "    # return plt.plot(post_All_PTS)\n",
    "    # Bar Chart \n",
    "    # plt.barh(np.arange(len(post_All_PTS)), post_All_PTS)\n",
    "    # plt.hist(data['EFF/40'])\n",
    "player_eff_plot_pre('EFF/40')"
   ]
  },
  {
   "cell_type": "markdown",
   "metadata": {},
   "source": [
    "More Exploratory Data Analysis "
   ]
  },
  {
   "cell_type": "code",
   "execution_count": 768,
   "metadata": {},
   "outputs": [
    {
     "data": {
      "text/plain": [
       "20.3"
      ]
     },
     "execution_count": 768,
     "metadata": {},
     "output_type": "execute_result"
    }
   ],
   "source": [
    "points = data['PTS'].mean()\n",
    "points "
   ]
  },
  {
   "cell_type": "code",
   "execution_count": 769,
   "metadata": {},
   "outputs": [
    {
     "data": {
      "text/plain": [
       "6.0"
      ]
     },
     "execution_count": 769,
     "metadata": {},
     "output_type": "execute_result"
    }
   ],
   "source": [
    "data['EFF/40'].min()"
   ]
  },
  {
   "cell_type": "code",
   "execution_count": 770,
   "metadata": {},
   "outputs": [
    {
     "data": {
      "text/plain": [
       "34.0"
      ]
     },
     "execution_count": 770,
     "metadata": {},
     "output_type": "execute_result"
    }
   ],
   "source": [
    "data['EFF/40'].max()"
   ]
  },
  {
   "cell_type": "code",
   "execution_count": 771,
   "metadata": {},
   "outputs": [
    {
     "data": {
      "text/plain": [
       "18.6"
      ]
     },
     "execution_count": 771,
     "metadata": {},
     "output_type": "execute_result"
    }
   ],
   "source": [
    "data['EFF/40'].mean()"
   ]
  },
  {
   "cell_type": "code",
   "execution_count": 772,
   "metadata": {},
   "outputs": [
    {
     "data": {
      "text/plain": [
       "[<matplotlib.lines.Line2D at 0x16cdb203820>]"
      ]
     },
     "execution_count": 772,
     "metadata": {},
     "output_type": "execute_result"
    },
    {
     "data": {
      "image/png": "[encoded data removed]",
      "text/plain": [
       "<Figure size 432x288 with 1 Axes>"
      ]
     },
     "metadata": {
      "needs_background": "light"
     },
     "output_type": "display_data"
    }
   ],
   "source": [
    "\n",
    "counts = data['EFF/40']\n",
    "plt.plot(counts)\n",
    "\n"
   ]
  },
  {
   "cell_type": "markdown",
   "metadata": {},
   "source": [
    "2009"
   ]
  },
  {
   "cell_type": "code",
   "execution_count": 773,
   "metadata": {},
   "outputs": [
    {
     "name": "stdout",
     "output_type": "stream",
     "text": [
      "{'FG': 188.0, 'FGA': 402.0, '3P': 28.0, '3PA': 28.0, 'FT': 139.0, 'FTA': 159.0, 'TRB': 135.0, 'AST': 58.0, 'STL': 32.0, 'BLK': 10.0, 'TOV': 62.0, 'PTS': 543.0, 'PF': 44.0, 'ORB': 22.0, 'DRB': 113.0}\n"
     ]
    }
   ],
   "source": [
    "#Points Before and After The All Star Game\n",
    "def header_sum_post09(header, season):\n",
    "    post_all_star = data09[data09['Date'] > '2009-02-14']\n",
    "    post_All_PTS = post_all_star[header].sum()\n",
    "    post[season][header] = post_All_PTS\n",
    "    return f\"After All Star Break: {post_All_PTS}\"\n",
    "header_sum_post09('FG', '2008-09')\n",
    "header_sum_post09('FGA','2008-09')\n",
    "header_sum_post09('3P', '2008-09')\n",
    "header_sum_post09('FT','2008-09')\n",
    "header_sum_post09('FTA','2008-09')\n",
    "header_sum_post09('TRB','2008-09')\n",
    "header_sum_post09('AST','2008-09')\n",
    "header_sum_post09('STL', '2008-09')\n",
    "header_sum_post09('BLK','2008-09')\n",
    "header_sum_post09('TOV','2008-09')\n",
    "header_sum_post09('PTS','2008-09')\n",
    "header_sum_post09('PF','2008-09')\n",
    "header_sum_post09('ORB','2008-09')\n",
    "header_sum_post09('DRB','2008-09')\n",
    "header_sum_post09('3PA', '2008-09')\n",
    "header_sum_post09('3PA','2008-09')\n",
    "print(post['2008-09'])\n",
    "# print(post)"
   ]
  },
  {
   "cell_type": "code",
   "execution_count": 774,
   "metadata": {},
   "outputs": [
    {
     "name": "stdout",
     "output_type": "stream",
     "text": [
      "After All Star Break: 19.227272727272727\n"
     ]
    }
   ],
   "source": [
    "def player_eff_post09(header):\n",
    "    eff40 = raw_eff * 40 \n",
    "    data09['EFF/40'] = eff40.round(decimals=0)\n",
    "    data09['EFF/40'] = pd.to_numeric(data09['EFF/40'], errors='coerce')\n",
    "    post_all_star = data09[data09['Date'] > '2009-02-14']\n",
    "    post_All_PTS = post_all_star[header].mean()\n",
    "    post[header] = post_All_PTS\n",
    "    return f\"After All Star Break: {post_All_PTS}\"\n",
    "print(player_eff_post09('EFF/40'))"
   ]
  },
  {
   "cell_type": "code",
   "execution_count": 775,
   "metadata": {},
   "outputs": [
    {
     "data": {
      "text/plain": [
       "[Text(0.5, 0, 'Games After All Star Break'), Text(0, 0.5, 'Durant PER Score')]"
      ]
     },
     "execution_count": 775,
     "metadata": {},
     "output_type": "execute_result"
    },
    {
     "data": {
      "image/png": "[encoded data removed]",
      "text/plain": [
       "<Figure size 1440x1440 with 1 Axes>"
      ]
     },
     "metadata": {
      "needs_background": "light"
     },
     "output_type": "display_data"
    }
   ],
   "source": [
    "def player_eff_plot_post09(header):\n",
    "    eff40 = raw_eff * 40 \n",
    "    data09['EFF/40'] = eff40.round(decimals=0)\n",
    "    data09['EFF/40'] = pd.to_numeric(data['EFF/40'], errors='coerce')\n",
    "    post_all_star = data09[data09['Date'] > '2009-02-14']\n",
    "    post_All_PTS = post_all_star[header]\n",
    "    post[header] = post_All_PTS\n",
    "    games = post_all_star['G']\n",
    "    # Line Chart\n",
    "    # return plt.plot(post_All_PTS)\n",
    "    # Bar Chart \n",
    "    # plt.barh(np.arange(len(post_All_PTS)), post_All_PTS)\n",
    "    bar_plot = data09.groupby(by=games).mean()[header] \n",
    "    plt.figure(figsize=(20,20))\n",
    "    graph = sns.barplot(x=bar_plot.index, y=bar_plot, order=games, color='red')\n",
    "    graph.bar_label(graph.containers[0])\n",
    "    return graph.set(xlabel='Games After All Star Break', ylabel='Durant PER Score')\n",
    "player_eff_plot_post09('EFF/40')"
   ]
  },
  {
   "cell_type": "code",
   "execution_count": 776,
   "metadata": {},
   "outputs": [
    {
     "name": "stdout",
     "output_type": "stream",
     "text": [
      "{'FG': 473.0, 'FGA': 988.0, '3P': 69.0, '3PA': 69.0, 'FT': 313.0, 'FTA': 365.0, 'TRB': 347.0, 'AST': 147.0, 'STL': 64.0, 'BLK': 43.0, 'TOV': 163.0, 'PTS': 1328.0, 'PF': 90.0, 'ORB': 55.0, 'DRB': 292.0}\n"
     ]
    }
   ],
   "source": [
    "def header_sum_pre09(header, season):\n",
    "    pre_allstar_game = data09[data09['Date'] < '2009-02-14']\n",
    "    pre_allstar_PTS = pre_allstar_game[header].sum()\n",
    "    pre[season][header]= pre_allstar_PTS\n",
    "    return f\"Before All Star Break: {pre_allstar_PTS}\"\n",
    "header_sum_pre09('FG', '2008-09')\n",
    "header_sum_pre09('FGA', '2008-09')\n",
    "header_sum_pre09('3P','2008-09')\n",
    "header_sum_pre09('FT','2008-09')\n",
    "header_sum_pre09('FTA','2008-09')\n",
    "header_sum_pre09('TRB','2008-09')\n",
    "header_sum_pre09('AST','2008-09')\n",
    "header_sum_pre09('STL','2008-09')\n",
    "header_sum_pre09('BLK','2008-09')\n",
    "header_sum_pre09('TOV','2008-09')\n",
    "header_sum_pre09('PTS','2008-09')\n",
    "header_sum_pre09('PF','2008-09')\n",
    "header_sum_pre09('ORB','2008-09')\n",
    "header_sum_pre09('DRB','2008-09')\n",
    "header_sum_pre09('3PA','2008-09')\n",
    "header_sum_pre09('3PA','2008-09')\n",
    "print(pre['2008-09'])\n",
    "# print(pre)"
   ]
  },
  {
   "cell_type": "code",
   "execution_count": 777,
   "metadata": {},
   "outputs": [
    {
     "name": "stdout",
     "output_type": "stream",
     "text": [
      "Before All Star Break: 18.58\n"
     ]
    }
   ],
   "source": [
    "def player_eff_pre09(header): \n",
    "    # Create a paramter (date) that will filter multiple charts by hte date of the all star game \n",
    "    #Enter the all-star game date in the format allowed, make if statement to prevent wrong input \n",
    "    eff40 = raw_eff * 40 \n",
    "    data09['EFF/40'] = eff40.round(decimals=0)\n",
    "    data09['EFF/40'] = pd.to_numeric(data09['EFF/40'], errors='coerce')\n",
    "    pre_allstar_game = data09[data09['Date'] < '2009-02-14']\n",
    "    pre_allstar_PTS = pre_allstar_game[header].mean()\n",
    "    pre[header] = pre_allstar_PTS\n",
    "    return f\"Before All Star Break: {pre_allstar_PTS}\"\n",
    "print(player_eff_pre09('EFF/40'))"
   ]
  },
  {
   "cell_type": "code",
   "execution_count": 778,
   "metadata": {},
   "outputs": [
    {
     "data": {
      "text/plain": [
       "[Text(0.5, 0, 'Games Before All Star Break'), Text(0, 0.5, 'Durant PER Score')]"
      ]
     },
     "execution_count": 778,
     "metadata": {},
     "output_type": "execute_result"
    },
    {
     "data": {
      "image/png": "[encoded data removed]",
      "text/plain": [
       "<Figure size 1440x1440 with 1 Axes>"
      ]
     },
     "metadata": {
      "needs_background": "light"
     },
     "output_type": "display_data"
    }
   ],
   "source": [
    "def player_eff_plot_pre09(header):\n",
    "    eff40 = raw_eff * 40 \n",
    "    data09['EFF/40'] = eff40.round(decimals=0)\n",
    "    data09['EFF/40'] = pd.to_numeric(data09['EFF/40'], errors='coerce')\n",
    "    post_all_star = data09[data09['Date'] < '2009-02-14']\n",
    "    post_All_PTS = post_all_star[header]\n",
    "    post[header] = post_All_PTS\n",
    "    games = post_all_star['G']\n",
    "    bar_plot = data09.groupby(by=games).mean()[header] \n",
    "    plt.figure(figsize=(20,20))\n",
    "    graph = sns.barplot(x=bar_plot.index, y=bar_plot, color='Blue', order=games)\n",
    "    graph.bar_label(graph.containers[0])\n",
    "    return graph.set(xlabel='Games Before All Star Break', ylabel='Durant PER Score')\n",
    "    # Line Chart\n",
    "    # return plt.plot(post_All_PTS)\n",
    "    # Bar Chart \n",
    "    # plt.barh(np.arange(len(post_All_PTS)), post_All_PTS)\n",
    "    # plt.hist(data['EFF/40'])\n",
    "player_eff_plot_pre09('EFF/40')"
   ]
  },
  {
   "cell_type": "markdown",
   "metadata": {},
   "source": [
    "Conclusion \n",
    "Using Kevin Durant's rookie and sophmore year stats, Kevin Durant performs slighty more efficent after the All-Star break compared to before. I would conclude that Kevin Durant is a player that could help a NBA team make a late playoff run from these tow data sources. Kevin Durant scores PER above the NBA league average of 15 "
   ]
  },
  {
   "cell_type": "code",
   "execution_count": 779,
   "metadata": {},
   "outputs": [],
   "source": [
    "\n",
    "\n",
    "pre_data = pd.DataFrame(pre)\n",
    "post_data = pd.DataFrame(post)\n"
   ]
  },
  {
   "cell_type": "code",
   "execution_count": 780,
   "metadata": {},
   "outputs": [
    {
     "data": {
      "text/plain": [
       "[Text(0.5, 0, 'Games'), Text(0, 0.5, 'Player Effiency Per 40')]"
      ]
     },
     "execution_count": 780,
     "metadata": {},
     "output_type": "execute_result"
    },
    {
     "data": {
      "image/png": "[encoded data removed]",
      "text/plain": [
       "<Figure size 1440x1440 with 1 Axes>"
      ]
     },
     "metadata": {
      "needs_background": "light"
     },
     "output_type": "display_data"
    }
   ],
   "source": [
    "#Overall Seaon \n",
    "bar_data = data.groupby(['G']).mean()['EFF/40']\n",
    "plt.figure(figsize=(20,20))\n",
    "graph = sns.barplot(x=bar_data.index, y=bar_data, order=data['G'], color='red')\n",
    "graph.set(xlabel='Games', ylabel='Player Effiency Per 40')"
   ]
  },
  {
   "cell_type": "markdown",
   "metadata": {},
   "source": []
  }
 ],
 "metadata": {
  "interpreter": {
   "hash": "60dec77b4058532d0af09c27b22ec7834bb8966cac7e50d8c48c54167c657f50"
  },
  "kernelspec": {
   "display_name": "Python 3.9.10 64-bit (windows store)",
   "language": "python",
   "name": "python3"
  },
  "language_info": {
   "codemirror_mode": {
    "name": "ipython",
    "version": 3
   },
   "file_extension": ".py",
   "mimetype": "text/x-python",
   "name": "python",
   "nbconvert_exporter": "python",
   "pygments_lexer": "ipython3",
   "version": "3.9.10"
  },
  "orig_nbformat": 4
 },
 "nbformat": 4,
 "nbformat_minor": 2
}
